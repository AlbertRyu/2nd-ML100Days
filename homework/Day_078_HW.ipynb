{
 "cells": [
  {
   "cell_type": "markdown",
   "metadata": {},
   "source": [
    "## Work\n",
    "1. 請嘗試將 preproc_x 替換成以每筆資料的 min/max 進行標準化至 -1 ~ 1 間，再進行訓練\n",
    "2. 請嘗試將 mlp 疊更深 (e.g 5~10 層)，進行訓練後觀察 learning curve 的走勢\n",
    "3. (optional) 請改用 GPU 進行訓練 (如果你有 GPU 的話)，比較使用 CPU 與 GPU 的訓練速度"
   ]
  },
  {
   "cell_type": "code",
   "execution_count": 1,
   "metadata": {},
   "outputs": [
    {
     "name": "stdout",
     "output_type": "stream",
     "text": [
      "[name: \"/device:CPU:0\"\n",
      "device_type: \"CPU\"\n",
      "memory_limit: 268435456\n",
      "locality {\n",
      "}\n",
      "incarnation: 11447156327018918213\n",
      ", name: \"/device:GPU:0\"\n",
      "device_type: \"GPU\"\n",
      "memory_limit: 1463081369\n",
      "locality {\n",
      "  bus_id: 1\n",
      "  links {\n",
      "  }\n",
      "}\n",
      "incarnation: 3385445522594512000\n",
      "physical_device_desc: \"device: 0, name: GeForce 940MX, pci bus id: 0000:01:00.0, compute capability: 5.0\"\n",
      "]\n"
     ]
    }
   ],
   "source": [
    "## \n",
    "\"\"\"\n",
    "Your code here (optional)\n",
    "確認硬體資源\n",
    "\"\"\"\n",
    "from tensorflow.python.client import device_lib\n",
    "print(device_lib.list_local_devices())"
   ]
  },
  {
   "cell_type": "code",
   "execution_count": 12,
   "metadata": {},
   "outputs": [],
   "source": [
    "import os\n",
    "import keras\n",
    "\n",
    "# 請嘗試設定 GPU：os.environ\n",
    "os.environ[\"CUDA_VISIBLE_DEVICES\"] = \"0\""
   ]
  },
  {
   "cell_type": "code",
   "execution_count": 3,
   "metadata": {},
   "outputs": [],
   "source": [
    "train, test = keras.datasets.cifar10.load_data()"
   ]
  },
  {
   "cell_type": "code",
   "execution_count": 4,
   "metadata": {},
   "outputs": [],
   "source": [
    "## 資料前處理\n",
    "\"\"\"\n",
    "Your code here\n",
    "\"\"\"\n",
    "def preproc_x(x, flatten=True):\n",
    "    x = 2*x / (255-0) - 1 # 2 * (x - min(x))/(max(x) - min(x)) - 1\n",
    "    if flatten:\n",
    "        x = x.reshape((len(x), -1))\n",
    "    return x\n",
    "\n",
    "def preproc_y(y, num_classes=10):\n",
    "    if y.shape[-1] == 1:\n",
    "        y = keras.utils.to_categorical(y, num_classes)\n",
    "    return y   "
   ]
  },
  {
   "cell_type": "code",
   "execution_count": 5,
   "metadata": {},
   "outputs": [],
   "source": [
    "x_train, y_train = train\n",
    "x_test, y_test = test\n",
    "\n",
    "# Preproc the inputs\n",
    "x_train = preproc_x(x_train)\n",
    "x_test = preproc_x(x_test)\n",
    "\n",
    "# Preprc the outputs\n",
    "y_train = preproc_y(y_train)\n",
    "y_test = preproc_y(y_test)"
   ]
  },
  {
   "cell_type": "code",
   "execution_count": 7,
   "metadata": {},
   "outputs": [],
   "source": [
    "\"\"\"Code Here\n",
    "建立你的神經網路\n",
    "\"\"\"\n",
    "def build_mlp(input_shape, output_units=10, num_neurons=[512, 256, 128, 64, 32]):\n",
    "    input_layer = keras.layers.Input(input_shape)\n",
    "    \n",
    "    for i, n_units in enumerate(num_neurons):\n",
    "        if i == 0:\n",
    "            x = keras.layers.Dense(units=n_units, activation=\"relu\", name=\"hidden_layer\"+str(i+1))(input_layer)\n",
    "        else:\n",
    "            x = keras.layers.Dense(units=n_units, activation=\"relu\", name=\"hidden_layer\"+str(i+1))(x)\n",
    "    \n",
    "    out = keras.layers.Dense(units=output_units, activation=\"softmax\", name=\"output\")(x)\n",
    "    \n",
    "    model = keras.models.Model(inputs=[input_layer], outputs=[out])\n",
    "    return model"
   ]
  },
  {
   "cell_type": "code",
   "execution_count": 8,
   "metadata": {},
   "outputs": [
    {
     "name": "stdout",
     "output_type": "stream",
     "text": [
      "WARNING:tensorflow:From C:\\tools\\Anaconda3\\envs\\py36\\lib\\site-packages\\tensorflow\\python\\framework\\op_def_library.py:263: colocate_with (from tensorflow.python.framework.ops) is deprecated and will be removed in a future version.\n",
      "Instructions for updating:\n",
      "Colocations handled automatically by placer.\n",
      "_________________________________________________________________\n",
      "Layer (type)                 Output Shape              Param #   \n",
      "=================================================================\n",
      "input_1 (InputLayer)         (None, 3072)              0         \n",
      "_________________________________________________________________\n",
      "hidden_layer1 (Dense)        (None, 512)               1573376   \n",
      "_________________________________________________________________\n",
      "hidden_layer2 (Dense)        (None, 256)               131328    \n",
      "_________________________________________________________________\n",
      "hidden_layer3 (Dense)        (None, 128)               32896     \n",
      "_________________________________________________________________\n",
      "hidden_layer4 (Dense)        (None, 64)                8256      \n",
      "_________________________________________________________________\n",
      "hidden_layer5 (Dense)        (None, 32)                2080      \n",
      "_________________________________________________________________\n",
      "output (Dense)               (None, 10)                330       \n",
      "=================================================================\n",
      "Total params: 1,748,266\n",
      "Trainable params: 1,748,266\n",
      "Non-trainable params: 0\n",
      "_________________________________________________________________\n"
     ]
    }
   ],
   "source": [
    "model = build_mlp(input_shape=x_train.shape[1:])\n",
    "model.summary()"
   ]
  },
  {
   "cell_type": "code",
   "execution_count": 9,
   "metadata": {},
   "outputs": [],
   "source": [
    "## 超參數設定\n",
    "LEARNING_RATE = 0.001\n",
    "EPOCHS = 100\n",
    "BATCH_SIZE = 256"
   ]
  },
  {
   "cell_type": "code",
   "execution_count": 10,
   "metadata": {},
   "outputs": [],
   "source": [
    "optimizer = keras.optimizers.Adam(lr=LEARNING_RATE)\n",
    "model.compile(loss=\"categorical_crossentropy\", metrics=[\"accuracy\"], optimizer=optimizer)"
   ]
  },
  {
   "cell_type": "code",
   "execution_count": 13,
   "metadata": {},
   "outputs": [
    {
     "name": "stdout",
     "output_type": "stream",
     "text": [
      "Train on 50000 samples, validate on 10000 samples\n",
      "Epoch 1/100\n",
      "50000/50000 [==============================] - 8s 152us/step - loss: 1.7180 - acc: 0.3861 - val_loss: 1.9788 - val_acc: 0.2995\n",
      "Epoch 2/100\n",
      "50000/50000 [==============================] - 8s 152us/step - loss: 1.6817 - acc: 0.3988 - val_loss: 1.9729 - val_acc: 0.3104\n",
      "Epoch 3/100\n",
      "50000/50000 [==============================] - 8s 151us/step - loss: 1.6495 - acc: 0.4119 - val_loss: 2.0411 - val_acc: 0.2936\n",
      "Epoch 4/100\n",
      "50000/50000 [==============================] - 8s 153us/step - loss: 1.6253 - acc: 0.4219 - val_loss: 1.9927 - val_acc: 0.3083\n",
      "Epoch 5/100\n",
      "50000/50000 [==============================] - 8s 150us/step - loss: 1.5835 - acc: 0.4330 - val_loss: 2.0406 - val_acc: 0.3031\n",
      "Epoch 6/100\n",
      "50000/50000 [==============================] - 7s 149us/step - loss: 1.5541 - acc: 0.4441 - val_loss: 2.0325 - val_acc: 0.3050\n",
      "Epoch 7/100\n",
      "50000/50000 [==============================] - 7s 150us/step - loss: 1.5304 - acc: 0.4507 - val_loss: 2.0563 - val_acc: 0.3049\n",
      "Epoch 8/100\n",
      "50000/50000 [==============================] - 8s 150us/step - loss: 1.4970 - acc: 0.4645 - val_loss: 2.0632 - val_acc: 0.3021\n",
      "Epoch 9/100\n",
      "50000/50000 [==============================] - 8s 150us/step - loss: 1.4570 - acc: 0.4791 - val_loss: 2.0833 - val_acc: 0.3144\n",
      "Epoch 10/100\n",
      "50000/50000 [==============================] - 8s 150us/step - loss: 1.4263 - acc: 0.4890 - val_loss: 2.0931 - val_acc: 0.3111\n",
      "Epoch 11/100\n",
      "50000/50000 [==============================] - 8s 151us/step - loss: 1.3846 - acc: 0.5053 - val_loss: 2.1976 - val_acc: 0.2951\n",
      "Epoch 12/100\n",
      "50000/50000 [==============================] - 7s 150us/step - loss: 1.3663 - acc: 0.5114 - val_loss: 2.2425 - val_acc: 0.2923\n",
      "Epoch 13/100\n",
      "50000/50000 [==============================] - 8s 159us/step - loss: 1.3172 - acc: 0.5272 - val_loss: 2.2029 - val_acc: 0.2963\n",
      "Epoch 14/100\n",
      "50000/50000 [==============================] - 8s 151us/step - loss: 1.2917 - acc: 0.5348 - val_loss: 2.2988 - val_acc: 0.2974\n",
      "Epoch 15/100\n",
      "50000/50000 [==============================] - 8s 151us/step - loss: 1.2631 - acc: 0.5456 - val_loss: 2.3538 - val_acc: 0.3030\n",
      "Epoch 16/100\n",
      "50000/50000 [==============================] - 7s 149us/step - loss: 1.2242 - acc: 0.5586 - val_loss: 2.3961 - val_acc: 0.2956\n",
      "Epoch 17/100\n",
      "50000/50000 [==============================] - 7s 150us/step - loss: 1.2062 - acc: 0.5663 - val_loss: 2.3897 - val_acc: 0.3072\n",
      "Epoch 18/100\n",
      "50000/50000 [==============================] - 7s 149us/step - loss: 1.1722 - acc: 0.5793 - val_loss: 2.4384 - val_acc: 0.2970\n",
      "Epoch 19/100\n",
      "50000/50000 [==============================] - 8s 150us/step - loss: 1.1558 - acc: 0.5826 - val_loss: 2.4718 - val_acc: 0.2910\n",
      "Epoch 20/100\n",
      "50000/50000 [==============================] - 7s 149us/step - loss: 1.1035 - acc: 0.6023 - val_loss: 2.6216 - val_acc: 0.2934\n",
      "Epoch 21/100\n",
      "50000/50000 [==============================] - 7s 150us/step - loss: 1.0739 - acc: 0.6144 - val_loss: 2.6512 - val_acc: 0.2857\n",
      "Epoch 22/100\n",
      "50000/50000 [==============================] - 8s 151us/step - loss: 1.0595 - acc: 0.6175 - val_loss: 2.5902 - val_acc: 0.2968\n",
      "Epoch 23/100\n",
      "50000/50000 [==============================] - 7s 150us/step - loss: 1.0158 - acc: 0.6331 - val_loss: 2.6558 - val_acc: 0.2935\n",
      "Epoch 24/100\n",
      "50000/50000 [==============================] - 8s 154us/step - loss: 0.9777 - acc: 0.6460 - val_loss: 2.8279 - val_acc: 0.2895\n",
      "Epoch 25/100\n",
      "50000/50000 [==============================] - 8s 156us/step - loss: 0.9521 - acc: 0.6561 - val_loss: 2.9175 - val_acc: 0.2866\n",
      "Epoch 26/100\n",
      "50000/50000 [==============================] - 8s 151us/step - loss: 0.9467 - acc: 0.6570 - val_loss: 2.8343 - val_acc: 0.2843\n",
      "Epoch 27/100\n",
      "50000/50000 [==============================] - 8s 153us/step - loss: 0.9171 - acc: 0.6678 - val_loss: 3.0035 - val_acc: 0.2922\n",
      "Epoch 28/100\n",
      "50000/50000 [==============================] - 8s 152us/step - loss: 0.8853 - acc: 0.6824 - val_loss: 2.9806 - val_acc: 0.2844\n",
      "Epoch 29/100\n",
      "50000/50000 [==============================] - 7s 149us/step - loss: 0.8659 - acc: 0.6855 - val_loss: 3.1834 - val_acc: 0.2880\n",
      "Epoch 30/100\n",
      "50000/50000 [==============================] - 7s 150us/step - loss: 0.8547 - acc: 0.6899 - val_loss: 3.1411 - val_acc: 0.2837\n",
      "Epoch 31/100\n",
      "50000/50000 [==============================] - 8s 151us/step - loss: 0.7915 - acc: 0.7160 - val_loss: 3.3637 - val_acc: 0.2813\n",
      "Epoch 32/100\n",
      "50000/50000 [==============================] - 7s 150us/step - loss: 0.7871 - acc: 0.7135 - val_loss: 3.4627 - val_acc: 0.2783\n",
      "Epoch 33/100\n",
      "50000/50000 [==============================] - 7s 149us/step - loss: 0.7703 - acc: 0.7209 - val_loss: 3.4122 - val_acc: 0.2850\n",
      "Epoch 34/100\n",
      "50000/50000 [==============================] - 7s 149us/step - loss: 0.7518 - acc: 0.7252 - val_loss: 3.4539 - val_acc: 0.2848\n",
      "Epoch 35/100\n",
      "50000/50000 [==============================] - 7s 150us/step - loss: 0.7332 - acc: 0.7321 - val_loss: 3.5922 - val_acc: 0.2817\n",
      "Epoch 36/100\n",
      "50000/50000 [==============================] - 8s 150us/step - loss: 0.6971 - acc: 0.7470 - val_loss: 3.8951 - val_acc: 0.2838\n",
      "Epoch 37/100\n",
      "50000/50000 [==============================] - 7s 150us/step - loss: 0.6777 - acc: 0.7544 - val_loss: 3.7251 - val_acc: 0.2825\n",
      "Epoch 38/100\n",
      "50000/50000 [==============================] - 7s 149us/step - loss: 0.6727 - acc: 0.7531 - val_loss: 3.9932 - val_acc: 0.2798\n",
      "Epoch 39/100\n",
      "50000/50000 [==============================] - 8s 151us/step - loss: 0.6591 - acc: 0.7579 - val_loss: 3.7964 - val_acc: 0.2729\n",
      "Epoch 40/100\n",
      "50000/50000 [==============================] - 7s 149us/step - loss: 0.6410 - acc: 0.7674 - val_loss: 4.0874 - val_acc: 0.2760\n",
      "Epoch 41/100\n",
      "50000/50000 [==============================] - 7s 149us/step - loss: 0.6140 - acc: 0.7774 - val_loss: 3.8948 - val_acc: 0.2759\n",
      "Epoch 42/100\n",
      "50000/50000 [==============================] - 7s 149us/step - loss: 0.6228 - acc: 0.7731 - val_loss: 3.8272 - val_acc: 0.2759\n",
      "Epoch 43/100\n",
      "50000/50000 [==============================] - 7s 149us/step - loss: 0.5903 - acc: 0.7860 - val_loss: 4.1351 - val_acc: 0.2789\n",
      "Epoch 44/100\n",
      "50000/50000 [==============================] - 7s 149us/step - loss: 0.5616 - acc: 0.7968 - val_loss: 4.1110 - val_acc: 0.2733\n",
      "Epoch 45/100\n",
      "50000/50000 [==============================] - 7s 150us/step - loss: 0.5488 - acc: 0.7999 - val_loss: 4.2756 - val_acc: 0.2723\n",
      "Epoch 46/100\n",
      "50000/50000 [==============================] - 7s 150us/step - loss: 0.5667 - acc: 0.7943 - val_loss: 4.4177 - val_acc: 0.2784\n",
      "Epoch 47/100\n",
      "50000/50000 [==============================] - 7s 149us/step - loss: 0.5282 - acc: 0.8086 - val_loss: 4.4915 - val_acc: 0.2688\n",
      "Epoch 48/100\n",
      "50000/50000 [==============================] - 8s 151us/step - loss: 0.5126 - acc: 0.8118 - val_loss: 4.4425 - val_acc: 0.2806\n",
      "Epoch 49/100\n",
      "50000/50000 [==============================] - 7s 149us/step - loss: 0.5751 - acc: 0.7936 - val_loss: 4.5139 - val_acc: 0.2665\n",
      "Epoch 50/100\n",
      "50000/50000 [==============================] - 7s 149us/step - loss: 0.5030 - acc: 0.8180 - val_loss: 4.5195 - val_acc: 0.2662\n",
      "Epoch 51/100\n",
      "50000/50000 [==============================] - 7s 149us/step - loss: 0.4780 - acc: 0.8281 - val_loss: 4.6739 - val_acc: 0.2759\n",
      "Epoch 52/100\n",
      "50000/50000 [==============================] - 7s 149us/step - loss: 0.4390 - acc: 0.8412 - val_loss: 4.7472 - val_acc: 0.2785\n",
      "Epoch 53/100\n",
      "50000/50000 [==============================] - 8s 152us/step - loss: 0.4576 - acc: 0.8351 - val_loss: 4.7836 - val_acc: 0.2632\n",
      "Epoch 54/100\n",
      "50000/50000 [==============================] - 7s 150us/step - loss: 0.5167 - acc: 0.8113 - val_loss: 4.6814 - val_acc: 0.2741\n",
      "Epoch 55/100\n",
      "50000/50000 [==============================] - 7s 149us/step - loss: 0.4226 - acc: 0.8470 - val_loss: 4.9951 - val_acc: 0.2736\n",
      "Epoch 56/100\n",
      "50000/50000 [==============================] - 7s 149us/step - loss: 0.4533 - acc: 0.8336 - val_loss: 4.9934 - val_acc: 0.2771\n",
      "Epoch 57/100\n",
      "50000/50000 [==============================] - 8s 151us/step - loss: 0.4107 - acc: 0.8522 - val_loss: 5.1134 - val_acc: 0.2649\n",
      "Epoch 58/100\n",
      "50000/50000 [==============================] - 8s 150us/step - loss: 0.4767 - acc: 0.8275 - val_loss: 5.0653 - val_acc: 0.2675\n",
      "Epoch 59/100\n"
     ]
    },
    {
     "name": "stdout",
     "output_type": "stream",
     "text": [
      "50000/50000 [==============================] - 7s 150us/step - loss: 0.4237 - acc: 0.8460 - val_loss: 5.0729 - val_acc: 0.2713\n",
      "Epoch 60/100\n",
      "50000/50000 [==============================] - 7s 149us/step - loss: 0.4004 - acc: 0.8563 - val_loss: 5.0601 - val_acc: 0.2631\n",
      "Epoch 61/100\n",
      "50000/50000 [==============================] - 8s 151us/step - loss: 0.4158 - acc: 0.8498 - val_loss: 5.1864 - val_acc: 0.2668\n",
      "Epoch 62/100\n",
      "50000/50000 [==============================] - 8s 152us/step - loss: 0.4095 - acc: 0.8517 - val_loss: 5.2078 - val_acc: 0.2738\n",
      "Epoch 63/100\n",
      "50000/50000 [==============================] - 8s 151us/step - loss: 0.3569 - acc: 0.8730 - val_loss: 5.3005 - val_acc: 0.2710\n",
      "Epoch 64/100\n",
      "50000/50000 [==============================] - 7s 150us/step - loss: 0.3555 - acc: 0.8713 - val_loss: 5.3746 - val_acc: 0.2685\n",
      "Epoch 65/100\n",
      "50000/50000 [==============================] - 8s 151us/step - loss: 0.3828 - acc: 0.8599 - val_loss: 5.5122 - val_acc: 0.2645\n",
      "Epoch 66/100\n",
      "50000/50000 [==============================] - 8s 151us/step - loss: 0.3572 - acc: 0.8712 - val_loss: 5.7540 - val_acc: 0.2622\n",
      "Epoch 67/100\n",
      "50000/50000 [==============================] - 7s 150us/step - loss: 0.4847 - acc: 0.8317 - val_loss: 5.2771 - val_acc: 0.2710\n",
      "Epoch 68/100\n",
      "50000/50000 [==============================] - 7s 150us/step - loss: 0.3475 - acc: 0.8773 - val_loss: 5.4750 - val_acc: 0.2661\n",
      "Epoch 69/100\n",
      "50000/50000 [==============================] - 7s 149us/step - loss: 0.3785 - acc: 0.8652 - val_loss: 5.3734 - val_acc: 0.2715\n",
      "Epoch 70/100\n",
      "50000/50000 [==============================] - 7s 149us/step - loss: 0.3182 - acc: 0.8878 - val_loss: 5.6301 - val_acc: 0.2693\n",
      "Epoch 71/100\n",
      "50000/50000 [==============================] - 7s 149us/step - loss: 0.3582 - acc: 0.8727 - val_loss: 5.5354 - val_acc: 0.2694\n",
      "Epoch 72/100\n",
      "50000/50000 [==============================] - 8s 150us/step - loss: 0.3570 - acc: 0.8726 - val_loss: 5.6080 - val_acc: 0.2627\n",
      "Epoch 73/100\n",
      "50000/50000 [==============================] - 7s 149us/step - loss: 0.2929 - acc: 0.8961 - val_loss: 5.8771 - val_acc: 0.2686\n",
      "Epoch 74/100\n",
      "50000/50000 [==============================] - 8s 150us/step - loss: 0.3391 - acc: 0.8796 - val_loss: 5.6227 - val_acc: 0.2662\n",
      "Epoch 75/100\n",
      "50000/50000 [==============================] - 7s 150us/step - loss: 0.3798 - acc: 0.8669 - val_loss: 5.7239 - val_acc: 0.2672\n",
      "Epoch 76/100\n",
      "50000/50000 [==============================] - 7s 149us/step - loss: 0.3121 - acc: 0.8877 - val_loss: 5.8284 - val_acc: 0.2601\n",
      "Epoch 77/100\n",
      "50000/50000 [==============================] - 7s 149us/step - loss: 0.3240 - acc: 0.8846 - val_loss: 5.8213 - val_acc: 0.2664\n",
      "Epoch 78/100\n",
      "50000/50000 [==============================] - 8s 151us/step - loss: 0.3006 - acc: 0.8929 - val_loss: 5.6763 - val_acc: 0.2625\n",
      "Epoch 79/100\n",
      "50000/50000 [==============================] - 7s 149us/step - loss: 0.2976 - acc: 0.8935 - val_loss: 5.9036 - val_acc: 0.2724\n",
      "Epoch 80/100\n",
      "50000/50000 [==============================] - 8s 151us/step - loss: 0.2703 - acc: 0.9058 - val_loss: 6.1847 - val_acc: 0.2633\n",
      "Epoch 81/100\n",
      "50000/50000 [==============================] - 7s 150us/step - loss: 0.3465 - acc: 0.8778 - val_loss: 5.9696 - val_acc: 0.2644\n",
      "Epoch 82/100\n",
      "50000/50000 [==============================] - 7s 148us/step - loss: 0.2620 - acc: 0.9086 - val_loss: 6.1176 - val_acc: 0.2693\n",
      "Epoch 83/100\n",
      "50000/50000 [==============================] - 7s 150us/step - loss: 0.2850 - acc: 0.8991 - val_loss: 6.0427 - val_acc: 0.2666\n",
      "Epoch 84/100\n",
      "50000/50000 [==============================] - 7s 150us/step - loss: 0.2906 - acc: 0.8990 - val_loss: 6.1475 - val_acc: 0.2695\n",
      "Epoch 85/100\n",
      "50000/50000 [==============================] - 7s 149us/step - loss: 0.3109 - acc: 0.8900 - val_loss: 6.1117 - val_acc: 0.2685\n",
      "Epoch 86/100\n",
      "50000/50000 [==============================] - 7s 149us/step - loss: 0.2512 - acc: 0.9125 - val_loss: 6.2324 - val_acc: 0.2685\n",
      "Epoch 87/100\n",
      "50000/50000 [==============================] - 7s 149us/step - loss: 0.2723 - acc: 0.9060 - val_loss: 6.0324 - val_acc: 0.2698\n",
      "Epoch 88/100\n",
      "50000/50000 [==============================] - 7s 149us/step - loss: 0.2894 - acc: 0.8997 - val_loss: 6.0268 - val_acc: 0.2662\n",
      "Epoch 89/100\n",
      "50000/50000 [==============================] - 7s 150us/step - loss: 0.2976 - acc: 0.8961 - val_loss: 6.3104 - val_acc: 0.2691\n",
      "Epoch 90/100\n",
      "50000/50000 [==============================] - 7s 150us/step - loss: 0.2461 - acc: 0.9150 - val_loss: 6.2442 - val_acc: 0.2634\n",
      "Epoch 91/100\n",
      "50000/50000 [==============================] - 7s 149us/step - loss: 0.2303 - acc: 0.9186 - val_loss: 6.2230 - val_acc: 0.2708\n",
      "Epoch 92/100\n",
      "50000/50000 [==============================] - 8s 151us/step - loss: 0.2573 - acc: 0.9096 - val_loss: 6.1968 - val_acc: 0.2660\n",
      "Epoch 93/100\n",
      "50000/50000 [==============================] - 7s 149us/step - loss: 0.3061 - acc: 0.8948 - val_loss: 6.2876 - val_acc: 0.2654\n",
      "Epoch 94/100\n",
      "50000/50000 [==============================] - 7s 149us/step - loss: 0.2140 - acc: 0.9252 - val_loss: 6.4726 - val_acc: 0.2598\n",
      "Epoch 95/100\n",
      "50000/50000 [==============================] - 7s 149us/step - loss: 0.2338 - acc: 0.9177 - val_loss: 6.3847 - val_acc: 0.2598\n",
      "Epoch 96/100\n",
      "50000/50000 [==============================] - 7s 149us/step - loss: 0.3080 - acc: 0.8951 - val_loss: 6.3863 - val_acc: 0.2649\n",
      "Epoch 97/100\n",
      "50000/50000 [==============================] - 7s 149us/step - loss: 0.1736 - acc: 0.9402 - val_loss: 6.6513 - val_acc: 0.2682\n",
      "Epoch 98/100\n",
      "50000/50000 [==============================] - 7s 150us/step - loss: 0.2596 - acc: 0.9092 - val_loss: 6.4136 - val_acc: 0.2655\n",
      "Epoch 99/100\n",
      "50000/50000 [==============================] - 7s 149us/step - loss: 0.2806 - acc: 0.9031 - val_loss: 6.5323 - val_acc: 0.2680\n",
      "Epoch 100/100\n",
      "50000/50000 [==============================] - 7s 149us/step - loss: 0.2680 - acc: 0.9089 - val_loss: 6.3084 - val_acc: 0.2592\n"
     ]
    },
    {
     "data": {
      "text/plain": [
       "<keras.callbacks.History at 0x20ca5579630>"
      ]
     },
     "execution_count": 13,
     "metadata": {},
     "output_type": "execute_result"
    }
   ],
   "source": [
    "model.fit(x_train, y_train, \n",
    "          epochs=EPOCHS, \n",
    "          batch_size=BATCH_SIZE, \n",
    "          validation_data=(x_test, y_test), \n",
    "          shuffle=True)"
   ]
  },
  {
   "cell_type": "code",
   "execution_count": 15,
   "metadata": {},
   "outputs": [
    {
     "data": {
      "image/png": "[encoded data removed]",
      "text/plain": [
       "<Figure size 432x288 with 1 Axes>"
      ]
     },
     "metadata": {
      "needs_background": "light"
     },
     "output_type": "display_data"
    },
    {
     "data": {
      "image/png": "[encoded data removed]",
      "text/plain": [
       "<Figure size 432x288 with 1 Axes>"
      ]
     },
     "metadata": {
      "needs_background": "light"
     },
     "output_type": "display_data"
    }
   ],
   "source": [
    "import matplotlib.pyplot as plt\n",
    "\n",
    "\n",
    "train_loss = model.history.history[\"loss\"]\n",
    "valid_loss = model.history.history[\"val_loss\"]\n",
    "\n",
    "train_acc = model.history.history[\"acc\"]\n",
    "valid_acc = model.history.history[\"val_acc\"]\n",
    "\n",
    "plt.plot(range(len(train_loss)), train_loss, label=\"train loss\")\n",
    "plt.plot(range(len(valid_loss)), valid_loss, label=\"valid loss\")\n",
    "plt.legend()\n",
    "plt.title(\"Loss\")\n",
    "plt.show()\n",
    "\n",
    "plt.plot(range(len(train_acc)), train_acc, label=\"train accuracy\")\n",
    "plt.plot(range(len(valid_acc)), valid_acc, label=\"valid accuracy\")\n",
    "plt.legend()\n",
    "plt.title(\"Accuracy\")\n",
    "plt.show()"
   ]
  },
  {
   "cell_type": "code",
   "execution_count": null,
   "metadata": {},
   "outputs": [],
   "source": []
  }
 ],
 "metadata": {
  "kernelspec": {
   "display_name": "Python 3",
   "language": "python",
   "name": "python3"
  },
  "language_info": {
   "codemirror_mode": {
    "name": "ipython",
    "version": 3
   },
   "file_extension": ".py",
   "mimetype": "text/x-python",
   "name": "python",
   "nbconvert_exporter": "python",
   "pygments_lexer": "ipython3",
   "version": "3.6.8"
  }
 },
 "nbformat": 4,
 "nbformat_minor": 2
}
