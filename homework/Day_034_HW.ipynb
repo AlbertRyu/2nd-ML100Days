{
 "cells": [
  {
   "cell_type": "markdown",
   "metadata": {},
   "source": [
    "## 練習時間\n",
    "假設我們資料中類別的數量並不均衡，在評估準確率時可能會有所偏頗，試著切分出 y_test 中，0 類別與 1 類別的數量是一樣的 (亦即 y_test 的類別是均衡的)"
   ]
  },
  {
   "cell_type": "code",
   "execution_count": 1,
   "metadata": {},
   "outputs": [],
   "source": [
    "import numpy as np\n",
    "X = np.arange(1000).reshape(200, 5)\n",
    "y = np.zeros(200)\n",
    "y[:40] = 1"
   ]
  },
  {
   "cell_type": "code",
   "execution_count": 3,
   "metadata": {},
   "outputs": [
    {
     "data": {
      "text/plain": [
       "array([1., 1., 1., 1., 1., 1., 1., 1., 1., 1., 1., 1., 1., 1., 1., 1., 1.,\n",
       "       1., 1., 1., 1., 1., 1., 1., 1., 1., 1., 1., 1., 1., 1., 1., 1., 1.,\n",
       "       1., 1., 1., 1., 1., 1., 0., 0., 0., 0., 0., 0., 0., 0., 0., 0., 0.,\n",
       "       0., 0., 0., 0., 0., 0., 0., 0., 0., 0., 0., 0., 0., 0., 0., 0., 0.,\n",
       "       0., 0., 0., 0., 0., 0., 0., 0., 0., 0., 0., 0., 0., 0., 0., 0., 0.,\n",
       "       0., 0., 0., 0., 0., 0., 0., 0., 0., 0., 0., 0., 0., 0., 0., 0., 0.,\n",
       "       0., 0., 0., 0., 0., 0., 0., 0., 0., 0., 0., 0., 0., 0., 0., 0., 0.,\n",
       "       0., 0., 0., 0., 0., 0., 0., 0., 0., 0., 0., 0., 0., 0., 0., 0., 0.,\n",
       "       0., 0., 0., 0., 0., 0., 0., 0., 0., 0., 0., 0., 0., 0., 0., 0., 0.,\n",
       "       0., 0., 0., 0., 0., 0., 0., 0., 0., 0., 0., 0., 0., 0., 0., 0., 0.,\n",
       "       0., 0., 0., 0., 0., 0., 0., 0., 0., 0., 0., 0., 0., 0., 0., 0., 0.,\n",
       "       0., 0., 0., 0., 0., 0., 0., 0., 0., 0., 0., 0., 0.])"
      ]
     },
     "execution_count": 3,
     "metadata": {},
     "output_type": "execute_result"
    }
   ],
   "source": [
    "y"
   ]
  },
  {
   "cell_type": "markdown",
   "metadata": {},
   "source": [
    "可以看見 y 類別中，有 160 個 類別 0，40 個 類別 1 ，請試著使用 train_test_split 函數，切分出 y_test 中能各有 10 筆類別 0 與 10 筆類別 1 。(HINT: 參考函數中的 test_size，可針對不同類別各自作切分後再合併)"
   ]
  },
  {
   "cell_type": "code",
   "execution_count": 90,
   "metadata": {},
   "outputs": [],
   "source": [
    "from sklearn.model_selection import train_test_split\n",
    "X_1 = X[:40]\n",
    "y_1 = y[:40]\n",
    "X_2 = X[40:]\n",
    "y_2 = y[40:]\n",
    "X_1_train, X_1_test, y_1_train, y_1_test = train_test_split(X_1, y_1, test_size=10)\n",
    "X_2_train, X_2_test, y_2_train, y_2_test = train_test_split(X_2, y_2, test_size=10)"
   ]
  },
  {
   "cell_type": "code",
   "execution_count": 91,
   "metadata": {},
   "outputs": [],
   "source": [
    "X_test = np.concatenate((X_1_test, X_2_test), axis=0)\n",
    "y_test = np.concatenate((y_1_test, y_2_test), axis=0)"
   ]
  },
  {
   "cell_type": "code",
   "execution_count": 92,
   "metadata": {},
   "outputs": [
    {
     "data": {
      "text/plain": [
       "array([[100., 101., 102., 103., 104.,   1.],\n",
       "       [ 25.,  26.,  27.,  28.,  29.,   1.],\n",
       "       [690., 691., 692., 693., 694.,   0.],\n",
       "       [ 70.,  71.,  72.,  73.,  74.,   1.],\n",
       "       [360., 361., 362., 363., 364.,   0.],\n",
       "       [  0.,   1.,   2.,   3.,   4.,   1.],\n",
       "       [800., 801., 802., 803., 804.,   0.],\n",
       "       [ 45.,  46.,  47.,  48.,  49.,   1.],\n",
       "       [ 30.,  31.,  32.,  33.,  34.,   1.],\n",
       "       [600., 601., 602., 603., 604.,   0.],\n",
       "       [665., 666., 667., 668., 669.,   0.],\n",
       "       [ 40.,  41.,  42.,  43.,  44.,   1.],\n",
       "       [500., 501., 502., 503., 504.,   0.],\n",
       "       [ 90.,  91.,  92.,  93.,  94.,   1.],\n",
       "       [160., 161., 162., 163., 164.,   1.],\n",
       "       [ 20.,  21.,  22.,  23.,  24.,   1.],\n",
       "       [475., 476., 477., 478., 479.,   0.],\n",
       "       [760., 761., 762., 763., 764.,   0.],\n",
       "       [815., 816., 817., 818., 819.,   0.],\n",
       "       [400., 401., 402., 403., 404.,   0.]])"
      ]
     },
     "execution_count": 92,
     "metadata": {},
     "output_type": "execute_result"
    }
   ],
   "source": [
    "# concate then shuffle\n",
    "y_test = y_test.reshape(-1,1)\n",
    "X_y_test = np.concatenate((X_test, y_test), axis=1)\n",
    "np.random.shuffle(X_y_test)\n",
    "X_y_test"
   ]
  },
  {
   "cell_type": "code",
   "execution_count": 96,
   "metadata": {},
   "outputs": [],
   "source": [
    "X_y_test_split = np.split(X_y_test,[5,6], axis=1)\n",
    "X_test = X_y_test_split[0]\n",
    "y_test = X_y_test_split[1].reshape(1,-1).flatten()"
   ]
  },
  {
   "cell_type": "code",
   "execution_count": 97,
   "metadata": {},
   "outputs": [
    {
     "data": {
      "text/plain": [
       "array([[100., 101., 102., 103., 104.],\n",
       "       [ 25.,  26.,  27.,  28.,  29.],\n",
       "       [690., 691., 692., 693., 694.],\n",
       "       [ 70.,  71.,  72.,  73.,  74.],\n",
       "       [360., 361., 362., 363., 364.],\n",
       "       [  0.,   1.,   2.,   3.,   4.],\n",
       "       [800., 801., 802., 803., 804.],\n",
       "       [ 45.,  46.,  47.,  48.,  49.],\n",
       "       [ 30.,  31.,  32.,  33.,  34.],\n",
       "       [600., 601., 602., 603., 604.],\n",
       "       [665., 666., 667., 668., 669.],\n",
       "       [ 40.,  41.,  42.,  43.,  44.],\n",
       "       [500., 501., 502., 503., 504.],\n",
       "       [ 90.,  91.,  92.,  93.,  94.],\n",
       "       [160., 161., 162., 163., 164.],\n",
       "       [ 20.,  21.,  22.,  23.,  24.],\n",
       "       [475., 476., 477., 478., 479.],\n",
       "       [760., 761., 762., 763., 764.],\n",
       "       [815., 816., 817., 818., 819.],\n",
       "       [400., 401., 402., 403., 404.]])"
      ]
     },
     "execution_count": 97,
     "metadata": {},
     "output_type": "execute_result"
    }
   ],
   "source": [
    "X_test"
   ]
  },
  {
   "cell_type": "code",
   "execution_count": 98,
   "metadata": {},
   "outputs": [
    {
     "data": {
      "text/plain": [
       "array([1., 1., 0., 1., 0., 1., 0., 1., 1., 0., 0., 1., 0., 1., 1., 1., 0.,\n",
       "       0., 0., 0.])"
      ]
     },
     "execution_count": 98,
     "metadata": {},
     "output_type": "execute_result"
    }
   ],
   "source": [
    "y_test"
   ]
  },
  {
   "cell_type": "code",
   "execution_count": null,
   "metadata": {},
   "outputs": [],
   "source": []
  }
 ],
 "metadata": {
  "kernelspec": {
   "display_name": "Python 3",
   "language": "python",
   "name": "python3"
  },
  "language_info": {
   "codemirror_mode": {
    "name": "ipython",
    "version": 3
   },
   "file_extension": ".py",
   "mimetype": "text/x-python",
   "name": "python",
   "nbconvert_exporter": "python",
   "pygments_lexer": "ipython3",
   "version": "3.6.5"
  }
 },
 "nbformat": 4,
 "nbformat_minor": 2
}
