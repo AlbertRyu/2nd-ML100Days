{
 "cells": [
  {
   "cell_type": "markdown",
   "metadata": {},
   "source": [
    "## Work\n",
    "1. 請將 Epoch 加到 500 個，並觀察 learning curve 的走勢\n",
    "2. 請將 Optimizer 換成 SGD，並觀察 learning curve 的走勢"
   ]
  },
  {
   "cell_type": "code",
   "execution_count": 1,
   "metadata": {},
   "outputs": [
    {
     "name": "stderr",
     "output_type": "stream",
     "text": [
      "Using TensorFlow backend.\n"
     ]
    }
   ],
   "source": [
    "import os\n",
    "import keras\n",
    "\n",
    "# 本作業可以不需使用 GPU, 將 GPU 設定為 \"無\" (若有 GPU 且想開啟，可設為 \"0\")\n",
    "# os.environ[\"CUDA_VISIBLE_DEVICES\"] = \"\""
   ]
  },
  {
   "cell_type": "code",
   "execution_count": 2,
   "metadata": {},
   "outputs": [],
   "source": [
    "# 從 Keras 的內建功能中，取得 train 與 test 資料集\n",
    "train, test = keras.datasets.cifar10.load_data()"
   ]
  },
  {
   "cell_type": "code",
   "execution_count": 3,
   "metadata": {},
   "outputs": [],
   "source": [
    "# 將 X 與 Y 獨立放進變數\n",
    "x_train, y_train = train\n",
    "x_test, y_test = test\n",
    "# 資料前處理 - 標準化\n",
    "x_train = x_train / 255.\n",
    "x_test = x_test / 255.\n",
    "\n",
    "# 將資料從圖形 (RGB) 轉為向量 (Single Vector)\n",
    "x_train = x_train.reshape((len(x_train), -1))\n",
    "x_test = x_test.reshape((len(x_test), -1))\n",
    "\n",
    "# 將目標轉為 one-hot encoding\n",
    "y_train = keras.utils.to_categorical(y_train, num_classes=10)\n",
    "y_test = keras.utils.to_categorical(y_test, num_classes=10)"
   ]
  },
  {
   "cell_type": "code",
   "execution_count": 4,
   "metadata": {},
   "outputs": [
    {
     "name": "stdout",
     "output_type": "stream",
     "text": [
      "WARNING:tensorflow:From C:\\tools\\Anaconda3\\envs\\py36\\lib\\site-packages\\tensorflow\\python\\framework\\op_def_library.py:263: colocate_with (from tensorflow.python.framework.ops) is deprecated and will be removed in a future version.\n",
      "Instructions for updating:\n",
      "Colocations handled automatically by placer.\n"
     ]
    }
   ],
   "source": [
    "def build_mlp():\n",
    "    \"\"\"Code Here\n",
    "    建立你的神經網路\n",
    "    \"\"\"\n",
    "    input_layer = keras.layers.Input([x_train.shape[-1]])\n",
    "    x = keras.layers.Dense(units=512, activation=\"relu\")(input_layer)\n",
    "    x = keras.layers.Dense(units=256, activation=\"relu\")(x)\n",
    "    x = keras.layers.Dense(units=128, activation=\"relu\")(x)\n",
    "    out = keras.layers.Dense(units=10, activation=\"softmax\")(x)\n",
    "    model = keras.models.Model(inputs=[input_layer], outputs=[out])\n",
    "    return model\n",
    "\n",
    "model = build_mlp()"
   ]
  },
  {
   "cell_type": "code",
   "execution_count": 5,
   "metadata": {},
   "outputs": [
    {
     "name": "stdout",
     "output_type": "stream",
     "text": [
      "_________________________________________________________________\n",
      "Layer (type)                 Output Shape              Param #   \n",
      "=================================================================\n",
      "input_1 (InputLayer)         (None, 3072)              0         \n",
      "_________________________________________________________________\n",
      "dense_1 (Dense)              (None, 512)               1573376   \n",
      "_________________________________________________________________\n",
      "dense_2 (Dense)              (None, 256)               131328    \n",
      "_________________________________________________________________\n",
      "dense_3 (Dense)              (None, 128)               32896     \n",
      "_________________________________________________________________\n",
      "dense_4 (Dense)              (None, 10)                1290      \n",
      "=================================================================\n",
      "Total params: 1,738,890\n",
      "Trainable params: 1,738,890\n",
      "Non-trainable params: 0\n",
      "_________________________________________________________________\n"
     ]
    }
   ],
   "source": [
    "\"\"\"\n",
    "Compile 模型\n",
    "\"\"\"\n",
    "model.summary()\n",
    "\n",
    "optimizer = keras.optimizers.Adam(lr=0.001)\n",
    "model.compile(loss=\"categorical_crossentropy\", metrics=[\"accuracy\"], optimizer=optimizer)"
   ]
  },
  {
   "cell_type": "code",
   "execution_count": 9,
   "metadata": {
    "scrolled": true
   },
   "outputs": [
    {
     "name": "stdout",
     "output_type": "stream",
     "text": [
      "Train on 50000 samples, validate on 10000 samples\n",
      "Epoch 1/100\n",
      "50000/50000 [==============================] - 8s 151us/step - loss: 1.3242 - acc: 0.5262 - val_loss: 1.4381 - val_acc: 0.4923\n",
      "Epoch 2/100\n",
      "50000/50000 [==============================] - 7s 150us/step - loss: 1.2884 - acc: 0.5395 - val_loss: 1.4036 - val_acc: 0.4990\n",
      "Epoch 3/100\n",
      "50000/50000 [==============================] - 8s 152us/step - loss: 1.2769 - acc: 0.5433 - val_loss: 1.4050 - val_acc: 0.5033\n",
      "Epoch 4/100\n",
      "50000/50000 [==============================] - 8s 152us/step - loss: 1.2458 - acc: 0.5562 - val_loss: 1.3868 - val_acc: 0.5110\n",
      "Epoch 5/100\n",
      "50000/50000 [==============================] - 8s 151us/step - loss: 1.2209 - acc: 0.5654 - val_loss: 1.3813 - val_acc: 0.5093\n",
      "Epoch 6/100\n",
      "50000/50000 [==============================] - 7s 149us/step - loss: 1.2087 - acc: 0.5686 - val_loss: 1.3764 - val_acc: 0.5150\n",
      "Epoch 7/100\n",
      "50000/50000 [==============================] - 7s 148us/step - loss: 1.1844 - acc: 0.5792 - val_loss: 1.3791 - val_acc: 0.5158\n",
      "Epoch 8/100\n",
      "50000/50000 [==============================] - 7s 147us/step - loss: 1.1582 - acc: 0.5866 - val_loss: 1.3839 - val_acc: 0.5128\n",
      "Epoch 9/100\n",
      "50000/50000 [==============================] - 7s 145us/step - loss: 1.1454 - acc: 0.5899 - val_loss: 1.3774 - val_acc: 0.5270\n",
      "Epoch 10/100\n",
      "50000/50000 [==============================] - 8s 161us/step - loss: 1.1143 - acc: 0.6026 - val_loss: 1.3926 - val_acc: 0.5194\n",
      "Epoch 11/100\n",
      "50000/50000 [==============================] - 8s 157us/step - loss: 1.0932 - acc: 0.6087 - val_loss: 1.3875 - val_acc: 0.5151\n",
      "Epoch 12/100\n",
      "50000/50000 [==============================] - 8s 155us/step - loss: 1.0819 - acc: 0.6112 - val_loss: 1.4591 - val_acc: 0.5102\n",
      "Epoch 13/100\n",
      "50000/50000 [==============================] - 8s 152us/step - loss: 1.0567 - acc: 0.6214 - val_loss: 1.3698 - val_acc: 0.5256\n",
      "Epoch 14/100\n",
      "50000/50000 [==============================] - 8s 155us/step - loss: 1.0360 - acc: 0.6294 - val_loss: 1.4433 - val_acc: 0.5138\n",
      "Epoch 15/100\n",
      "50000/50000 [==============================] - 7s 146us/step - loss: 1.0143 - acc: 0.6350 - val_loss: 1.3829 - val_acc: 0.5302\n",
      "Epoch 16/100\n",
      "50000/50000 [==============================] - 8s 152us/step - loss: 1.0057 - acc: 0.6395 - val_loss: 1.4016 - val_acc: 0.5279\n",
      "Epoch 17/100\n",
      "50000/50000 [==============================] - 8s 159us/step - loss: 0.9763 - acc: 0.6482 - val_loss: 1.4362 - val_acc: 0.5242\n",
      "Epoch 18/100\n",
      "50000/50000 [==============================] - 7s 145us/step - loss: 0.9662 - acc: 0.6551 - val_loss: 1.4398 - val_acc: 0.5239\n",
      "Epoch 19/100\n",
      "50000/50000 [==============================] - 8s 159us/step - loss: 0.9462 - acc: 0.6592 - val_loss: 1.4052 - val_acc: 0.5271\n",
      "Epoch 20/100\n",
      "50000/50000 [==============================] - 8s 159us/step - loss: 0.9120 - acc: 0.6747 - val_loss: 1.4478 - val_acc: 0.5270\n",
      "Epoch 21/100\n",
      "50000/50000 [==============================] - 7s 150us/step - loss: 0.8992 - acc: 0.6782 - val_loss: 1.4750 - val_acc: 0.5267\n",
      "Epoch 22/100\n",
      "50000/50000 [==============================] - 7s 148us/step - loss: 0.8857 - acc: 0.6825 - val_loss: 1.4776 - val_acc: 0.5247\n",
      "Epoch 23/100\n",
      "50000/50000 [==============================] - 8s 160us/step - loss: 0.8718 - acc: 0.6860 - val_loss: 1.4879 - val_acc: 0.5229\n",
      "Epoch 24/100\n",
      "50000/50000 [==============================] - 8s 152us/step - loss: 0.8532 - acc: 0.6934 - val_loss: 1.4944 - val_acc: 0.5258\n",
      "Epoch 25/100\n",
      "50000/50000 [==============================] - 7s 147us/step - loss: 0.8269 - acc: 0.7054 - val_loss: 1.5774 - val_acc: 0.5206\n",
      "Epoch 26/100\n",
      "50000/50000 [==============================] - 7s 147us/step - loss: 0.8096 - acc: 0.7088 - val_loss: 1.5338 - val_acc: 0.5211\n",
      "Epoch 27/100\n",
      "50000/50000 [==============================] - 7s 149us/step - loss: 0.7990 - acc: 0.7136 - val_loss: 1.5580 - val_acc: 0.5266\n",
      "Epoch 28/100\n",
      "50000/50000 [==============================] - 7s 147us/step - loss: 0.7808 - acc: 0.7206 - val_loss: 1.5835 - val_acc: 0.5201\n",
      "Epoch 29/100\n",
      "50000/50000 [==============================] - 7s 149us/step - loss: 0.7609 - acc: 0.7276 - val_loss: 1.6157 - val_acc: 0.5226\n",
      "Epoch 30/100\n",
      "50000/50000 [==============================] - 8s 151us/step - loss: 0.7404 - acc: 0.7335 - val_loss: 1.5852 - val_acc: 0.5262\n",
      "Epoch 31/100\n",
      "50000/50000 [==============================] - 7s 146us/step - loss: 0.7307 - acc: 0.7385 - val_loss: 1.7040 - val_acc: 0.5161\n",
      "Epoch 32/100\n",
      "50000/50000 [==============================] - 7s 145us/step - loss: 0.7083 - acc: 0.7462 - val_loss: 1.7133 - val_acc: 0.5077\n",
      "Epoch 33/100\n",
      "50000/50000 [==============================] - 7s 145us/step - loss: 0.6913 - acc: 0.7523 - val_loss: 1.7442 - val_acc: 0.5080\n",
      "Epoch 34/100\n",
      "50000/50000 [==============================] - 7s 145us/step - loss: 0.6817 - acc: 0.7565 - val_loss: 1.7713 - val_acc: 0.5098\n",
      "Epoch 35/100\n",
      "50000/50000 [==============================] - 7s 145us/step - loss: 0.6860 - acc: 0.7559 - val_loss: 1.7249 - val_acc: 0.5229\n",
      "Epoch 36/100\n",
      "50000/50000 [==============================] - 8s 156us/step - loss: 0.6638 - acc: 0.7625 - val_loss: 1.7169 - val_acc: 0.5197\n",
      "Epoch 37/100\n",
      "50000/50000 [==============================] - 7s 144us/step - loss: 0.6371 - acc: 0.7727 - val_loss: 1.7822 - val_acc: 0.5176\n",
      "Epoch 38/100\n",
      "50000/50000 [==============================] - 7s 143us/step - loss: 0.6286 - acc: 0.7741 - val_loss: 1.8156 - val_acc: 0.5201\n",
      "Epoch 39/100\n",
      "50000/50000 [==============================] - 7s 144us/step - loss: 0.6152 - acc: 0.7799 - val_loss: 1.8714 - val_acc: 0.5094\n",
      "Epoch 40/100\n",
      "50000/50000 [==============================] - 7s 142us/step - loss: 0.6072 - acc: 0.7810 - val_loss: 1.8514 - val_acc: 0.5168\n",
      "Epoch 41/100\n",
      "50000/50000 [==============================] - 7s 142us/step - loss: 0.5958 - acc: 0.7866 - val_loss: 1.9052 - val_acc: 0.5135\n",
      "Epoch 42/100\n",
      "50000/50000 [==============================] - 7s 142us/step - loss: 0.5710 - acc: 0.7959 - val_loss: 1.9411 - val_acc: 0.5103\n",
      "Epoch 43/100\n",
      "50000/50000 [==============================] - 7s 143us/step - loss: 0.5644 - acc: 0.7981 - val_loss: 1.9925 - val_acc: 0.5106\n",
      "Epoch 44/100\n",
      "50000/50000 [==============================] - 7s 145us/step - loss: 0.5505 - acc: 0.8017 - val_loss: 1.9922 - val_acc: 0.5100\n",
      "Epoch 45/100\n",
      "50000/50000 [==============================] - 7s 143us/step - loss: 0.5492 - acc: 0.8013 - val_loss: 1.9581 - val_acc: 0.5107\n",
      "Epoch 46/100\n",
      "50000/50000 [==============================] - 7s 142us/step - loss: 0.5439 - acc: 0.8056 - val_loss: 2.1083 - val_acc: 0.5075\n",
      "Epoch 47/100\n",
      "50000/50000 [==============================] - 7s 142us/step - loss: 0.5264 - acc: 0.8122 - val_loss: 2.0371 - val_acc: 0.5085\n",
      "Epoch 48/100\n",
      "50000/50000 [==============================] - 7s 144us/step - loss: 0.5192 - acc: 0.8148 - val_loss: 2.1312 - val_acc: 0.5041\n",
      "Epoch 49/100\n",
      "50000/50000 [==============================] - 7s 143us/step - loss: 0.5125 - acc: 0.8154 - val_loss: 2.1056 - val_acc: 0.5058\n",
      "Epoch 50/100\n",
      "50000/50000 [==============================] - 7s 142us/step - loss: 0.4852 - acc: 0.8253 - val_loss: 2.1082 - val_acc: 0.5129\n",
      "Epoch 51/100\n",
      "50000/50000 [==============================] - 7s 143us/step - loss: 0.4758 - acc: 0.8304 - val_loss: 2.2066 - val_acc: 0.5031\n",
      "Epoch 52/100\n",
      "50000/50000 [==============================] - 7s 142us/step - loss: 0.4966 - acc: 0.8226 - val_loss: 2.2224 - val_acc: 0.5036\n",
      "Epoch 53/100\n",
      "50000/50000 [==============================] - 7s 142us/step - loss: 0.4732 - acc: 0.8307 - val_loss: 2.2502 - val_acc: 0.5082\n",
      "Epoch 54/100\n",
      "50000/50000 [==============================] - 7s 143us/step - loss: 0.4657 - acc: 0.8351 - val_loss: 2.3167 - val_acc: 0.5090\n",
      "Epoch 55/100\n",
      "50000/50000 [==============================] - 7s 142us/step - loss: 0.4434 - acc: 0.8418 - val_loss: 2.3946 - val_acc: 0.5003\n",
      "Epoch 56/100\n",
      "50000/50000 [==============================] - 7s 142us/step - loss: 0.4366 - acc: 0.8438 - val_loss: 2.3214 - val_acc: 0.5030\n",
      "Epoch 57/100\n",
      "50000/50000 [==============================] - 7s 144us/step - loss: 0.4311 - acc: 0.8457 - val_loss: 2.3312 - val_acc: 0.5153\n",
      "Epoch 58/100\n",
      "50000/50000 [==============================] - 7s 143us/step - loss: 0.4236 - acc: 0.8467 - val_loss: 2.4103 - val_acc: 0.5057\n",
      "Epoch 59/100\n"
     ]
    },
    {
     "name": "stdout",
     "output_type": "stream",
     "text": [
      "50000/50000 [==============================] - 7s 142us/step - loss: 0.4225 - acc: 0.8479 - val_loss: 2.4012 - val_acc: 0.5081\n",
      "Epoch 60/100\n",
      "50000/50000 [==============================] - 7s 142us/step - loss: 0.4184 - acc: 0.8500 - val_loss: 2.4890 - val_acc: 0.5011\n",
      "Epoch 61/100\n",
      "50000/50000 [==============================] - 7s 142us/step - loss: 0.4173 - acc: 0.8501 - val_loss: 2.5081 - val_acc: 0.4943\n",
      "Epoch 62/100\n",
      "50000/50000 [==============================] - 7s 142us/step - loss: 0.4205 - acc: 0.8474 - val_loss: 2.4828 - val_acc: 0.5078\n",
      "Epoch 63/100\n",
      "50000/50000 [==============================] - 7s 142us/step - loss: 0.3819 - acc: 0.8631 - val_loss: 2.5827 - val_acc: 0.4937\n",
      "Epoch 64/100\n",
      "50000/50000 [==============================] - 7s 142us/step - loss: 0.3934 - acc: 0.8589 - val_loss: 2.5521 - val_acc: 0.5102\n",
      "Epoch 65/100\n",
      "50000/50000 [==============================] - 7s 142us/step - loss: 0.3648 - acc: 0.8698 - val_loss: 2.5652 - val_acc: 0.4947\n",
      "Epoch 66/100\n",
      "50000/50000 [==============================] - 7s 143us/step - loss: 0.3613 - acc: 0.8707 - val_loss: 2.6594 - val_acc: 0.5118\n",
      "Epoch 67/100\n",
      "50000/50000 [==============================] - 7s 143us/step - loss: 0.3575 - acc: 0.8726 - val_loss: 2.7123 - val_acc: 0.4909\n",
      "Epoch 68/100\n",
      "50000/50000 [==============================] - 7s 142us/step - loss: 0.3930 - acc: 0.8578 - val_loss: 2.8135 - val_acc: 0.5005\n",
      "Epoch 69/100\n",
      "50000/50000 [==============================] - 7s 142us/step - loss: 0.3654 - acc: 0.8692 - val_loss: 2.6764 - val_acc: 0.5061\n",
      "Epoch 70/100\n",
      "50000/50000 [==============================] - 7s 143us/step - loss: 0.3525 - acc: 0.8743 - val_loss: 2.7318 - val_acc: 0.4864\n",
      "Epoch 71/100\n",
      "50000/50000 [==============================] - 7s 142us/step - loss: 0.3475 - acc: 0.8744 - val_loss: 2.7603 - val_acc: 0.5032\n",
      "Epoch 72/100\n",
      "50000/50000 [==============================] - 7s 142us/step - loss: 0.3337 - acc: 0.8806 - val_loss: 2.8070 - val_acc: 0.5037\n",
      "Epoch 73/100\n",
      "50000/50000 [==============================] - 7s 142us/step - loss: 0.3484 - acc: 0.8749 - val_loss: 2.8489 - val_acc: 0.5029\n",
      "Epoch 74/100\n",
      "50000/50000 [==============================] - 7s 142us/step - loss: 0.3147 - acc: 0.8886 - val_loss: 2.9072 - val_acc: 0.4977\n",
      "Epoch 75/100\n",
      "50000/50000 [==============================] - 7s 143us/step - loss: 0.3449 - acc: 0.8753 - val_loss: 2.8419 - val_acc: 0.4934\n",
      "Epoch 76/100\n",
      "50000/50000 [==============================] - 7s 144us/step - loss: 0.3433 - acc: 0.8762 - val_loss: 2.9756 - val_acc: 0.4976\n",
      "Epoch 77/100\n",
      "50000/50000 [==============================] - 7s 143us/step - loss: 0.3234 - acc: 0.8849 - val_loss: 2.9090 - val_acc: 0.4943\n",
      "Epoch 78/100\n",
      "50000/50000 [==============================] - 7s 142us/step - loss: 0.2952 - acc: 0.8931 - val_loss: 2.9467 - val_acc: 0.4929\n",
      "Epoch 79/100\n",
      "50000/50000 [==============================] - 7s 142us/step - loss: 0.3197 - acc: 0.8828 - val_loss: 3.0058 - val_acc: 0.4978\n",
      "Epoch 80/100\n",
      "50000/50000 [==============================] - 7s 143us/step - loss: 0.3030 - acc: 0.8909 - val_loss: 2.9909 - val_acc: 0.5065\n",
      "Epoch 81/100\n",
      "50000/50000 [==============================] - 7s 142us/step - loss: 0.3136 - acc: 0.8877 - val_loss: 3.0454 - val_acc: 0.4951\n",
      "Epoch 82/100\n",
      "50000/50000 [==============================] - 7s 142us/step - loss: 0.2983 - acc: 0.8916 - val_loss: 3.0808 - val_acc: 0.4972\n",
      "Epoch 83/100\n",
      "50000/50000 [==============================] - 7s 143us/step - loss: 0.2838 - acc: 0.8986 - val_loss: 3.0895 - val_acc: 0.4972\n",
      "Epoch 84/100\n",
      "50000/50000 [==============================] - 7s 142us/step - loss: 0.2830 - acc: 0.8994 - val_loss: 3.0937 - val_acc: 0.5001\n",
      "Epoch 85/100\n",
      "50000/50000 [==============================] - 7s 143us/step - loss: 0.2757 - acc: 0.9002 - val_loss: 3.0662 - val_acc: 0.4925\n",
      "Epoch 86/100\n",
      "50000/50000 [==============================] - 7s 142us/step - loss: 0.3117 - acc: 0.8878 - val_loss: 3.1371 - val_acc: 0.5008\n",
      "Epoch 87/100\n",
      "50000/50000 [==============================] - 7s 143us/step - loss: 0.2876 - acc: 0.8966 - val_loss: 3.1776 - val_acc: 0.4972\n",
      "Epoch 88/100\n",
      "50000/50000 [==============================] - 7s 143us/step - loss: 0.2931 - acc: 0.8939 - val_loss: 3.2486 - val_acc: 0.4846\n",
      "Epoch 89/100\n",
      "50000/50000 [==============================] - 7s 143us/step - loss: 0.3017 - acc: 0.8906 - val_loss: 3.1765 - val_acc: 0.4899\n",
      "Epoch 90/100\n",
      "50000/50000 [==============================] - 7s 142us/step - loss: 0.2696 - acc: 0.9035 - val_loss: 3.1936 - val_acc: 0.5001\n",
      "Epoch 91/100\n",
      "50000/50000 [==============================] - 7s 143us/step - loss: 0.2770 - acc: 0.8993 - val_loss: 3.2840 - val_acc: 0.4885\n",
      "Epoch 92/100\n",
      "50000/50000 [==============================] - 7s 143us/step - loss: 0.2517 - acc: 0.9105 - val_loss: 3.3017 - val_acc: 0.4948\n",
      "Epoch 93/100\n",
      "50000/50000 [==============================] - 7s 142us/step - loss: 0.2415 - acc: 0.9136 - val_loss: 3.3226 - val_acc: 0.4968\n",
      "Epoch 94/100\n",
      "50000/50000 [==============================] - 7s 144us/step - loss: 0.2434 - acc: 0.9132 - val_loss: 3.3212 - val_acc: 0.5007\n",
      "Epoch 95/100\n",
      "50000/50000 [==============================] - 7s 142us/step - loss: 0.2730 - acc: 0.9026 - val_loss: 3.3136 - val_acc: 0.4902\n",
      "Epoch 96/100\n",
      "50000/50000 [==============================] - 7s 142us/step - loss: 0.2642 - acc: 0.9048 - val_loss: 3.3539 - val_acc: 0.4989\n",
      "Epoch 97/100\n",
      "50000/50000 [==============================] - 7s 142us/step - loss: 0.2423 - acc: 0.9128 - val_loss: 3.3864 - val_acc: 0.4904\n",
      "Epoch 98/100\n",
      "50000/50000 [==============================] - 7s 143us/step - loss: 0.2287 - acc: 0.9186 - val_loss: 3.4188 - val_acc: 0.4949\n",
      "Epoch 99/100\n",
      "50000/50000 [==============================] - 7s 142us/step - loss: 0.2589 - acc: 0.9074 - val_loss: 3.4191 - val_acc: 0.4946\n",
      "Epoch 100/100\n",
      "50000/50000 [==============================] - 7s 142us/step - loss: 0.2345 - acc: 0.9150 - val_loss: 3.4145 - val_acc: 0.4930\n"
     ]
    },
    {
     "data": {
      "text/plain": [
       "<keras.callbacks.History at 0x239de6ca2b0>"
      ]
     },
     "execution_count": 9,
     "metadata": {},
     "output_type": "execute_result"
    }
   ],
   "source": [
    "\"\"\"\n",
    "設定要訓練的 Epoch 數\n",
    "\"\"\"\n",
    "model.fit(x_train, y_train, \n",
    "          epochs=100, \n",
    "          batch_size=256, \n",
    "          validation_data=(x_test, y_test), \n",
    "          shuffle=True)"
   ]
  },
  {
   "cell_type": "code",
   "execution_count": 10,
   "metadata": {},
   "outputs": [
    {
     "data": {
      "image/png": "[encoded data removed]",
      "text/plain": [
       "<Figure size 432x288 with 1 Axes>"
      ]
     },
     "metadata": {
      "needs_background": "light"
     },
     "output_type": "display_data"
    },
    {
     "data": {
      "image/png": "[encoded data removed]",
      "text/plain": [
       "<Figure size 432x288 with 1 Axes>"
      ]
     },
     "metadata": {
      "needs_background": "light"
     },
     "output_type": "display_data"
    }
   ],
   "source": [
    "import matplotlib.pyplot as plt\n",
    "# 以視覺畫方式檢視訓練過程\n",
    "\n",
    "train_loss = model.history.history[\"loss\"]\n",
    "valid_loss = model.history.history[\"val_loss\"]\n",
    "\n",
    "train_acc = model.history.history[\"acc\"]\n",
    "valid_acc = model.history.history[\"val_acc\"]\n",
    "\n",
    "plt.plot(range(len(train_loss)), train_loss, label=\"train loss\")\n",
    "plt.plot(range(len(valid_loss)), valid_loss, label=\"valid loss\")\n",
    "plt.legend()\n",
    "plt.title(\"Loss\")\n",
    "plt.show()\n",
    "\n",
    "plt.plot(range(len(train_acc)), train_acc, label=\"train accuracy\")\n",
    "plt.plot(range(len(valid_acc)), valid_acc, label=\"valid accuracy\")\n",
    "plt.legend()\n",
    "plt.title(\"Accuracy\")\n",
    "plt.show()"
   ]
  },
  {
   "cell_type": "code",
   "execution_count": null,
   "metadata": {},
   "outputs": [],
   "source": []
  }
 ],
 "metadata": {
  "kernelspec": {
   "display_name": "Python 3",
   "language": "python",
   "name": "python3"
  },
  "language_info": {
   "codemirror_mode": {
    "name": "ipython",
    "version": 3
   },
   "file_extension": ".py",
   "mimetype": "text/x-python",
   "name": "python",
   "nbconvert_exporter": "python",
   "pygments_lexer": "ipython3",
   "version": "3.6.8"
  }
 },
 "nbformat": 4,
 "nbformat_minor": 2
}
