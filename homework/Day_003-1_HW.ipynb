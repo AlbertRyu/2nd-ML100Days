{
 "cells": [
  {
   "cell_type": "markdown",
   "metadata": {},
   "source": [
    "## 練習時間\n",
    "在小量的資料上，我們用眼睛就可以看得出來程式碼是否有跑出我們理想中的結果\n",
    "\n",
    "請嘗試想像一個你需要的資料結構 (裡面的值可以是隨機的)，然後用上述的方法把它變成 pandas DataFrame\n",
    "\n",
    "#### Ex: 想像一個 dataframe 有兩個欄位，一個是國家，一個是人口，求人口數最多的國家\n",
    "\n",
    "### Hints: [隨機產生數值](https://blog.csdn.net/christianashannon/article/details/78867204)"
   ]
  },
  {
   "cell_type": "code",
   "execution_count": 77,
   "metadata": {},
   "outputs": [],
   "source": [
    "import pandas as pd\n",
    "import numpy as np"
   ]
  },
  {
   "cell_type": "code",
   "execution_count": 78,
   "metadata": {},
   "outputs": [
    {
     "name": "stdout",
     "output_type": "stream",
     "text": [
      "   國家        人口\n",
      "0  TW  38612689\n",
      "1  US  33500924\n",
      "2  JP  24207067\n"
     ]
    }
   ],
   "source": [
    "population_data = {'國家': ['TW','US','JP'] ,\n",
    "                    '人口': np.random.randint(10000000, 50000000, 3) }\n",
    "population_df = pd.DataFrame(population_data)\n",
    "print(population_df)"
   ]
  },
  {
   "cell_type": "code",
   "execution_count": 79,
   "metadata": {},
   "outputs": [
    {
     "name": "stdout",
     "output_type": "stream",
     "text": [
      "   國家        人口\n",
      "0  TW  38612689\n",
      "1  US  33500924\n",
      "2  JP  24207067\n"
     ]
    }
   ],
   "source": [
    "population_df_sorted = population_df.sort_values(by='人口', ascending=False)\n",
    "print(population_df_sorted)"
   ]
  },
  {
   "cell_type": "code",
   "execution_count": 80,
   "metadata": {},
   "outputs": [
    {
     "name": "stdout",
     "output_type": "stream",
     "text": [
      "人口數最多的國家: TW 人口數: 38612689\n"
     ]
    }
   ],
   "source": [
    "population_df_rank1 = population_df_sorted[:1]\n",
    "population_rank1_country = population_df_rank1['國家'].tolist()[0]\n",
    "population_rank1_value = population_df_rank1['人口'].tolist()[0]\n",
    "print('人口數最多的國家:',population_rank1_country, '人口數:', population_rank1_value)"
   ]
  },
  {
   "cell_type": "code",
   "execution_count": 81,
   "metadata": {},
   "outputs": [],
   "source": [
    "def find_rank1_population_country(df):\n",
    "    population_df_sorted = population_df.sort_values(by='人口', ascending=False)\n",
    "    population_df_rank1 = population_df_sorted[:1]\n",
    "    population_rank1_country = population_df_rank1['國家'].tolist()[0]\n",
    "    return population_rank1_country"
   ]
  },
  {
   "cell_type": "code",
   "execution_count": 82,
   "metadata": {},
   "outputs": [
    {
     "data": {
      "text/plain": [
       "'TW'"
      ]
     },
     "execution_count": 82,
     "metadata": {},
     "output_type": "execute_result"
    }
   ],
   "source": [
    "find_rank1_population_country(population_df)"
   ]
  }
 ],
 "metadata": {
  "kernelspec": {
   "display_name": "Python 3",
   "language": "python",
   "name": "python3"
  },
  "language_info": {
   "codemirror_mode": {
    "name": "ipython",
    "version": 3
   },
   "file_extension": ".py",
   "mimetype": "text/x-python",
   "name": "python",
   "nbconvert_exporter": "python",
   "pygments_lexer": "ipython3",
   "version": "3.6.5"
  }
 },
 "nbformat": 4,
 "nbformat_minor": 2
}
